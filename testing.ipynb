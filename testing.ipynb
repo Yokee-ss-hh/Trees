{
 "cells": [
  {
   "cell_type": "code",
   "execution_count": 2,
   "metadata": {},
   "outputs": [
    {
     "name": "stdout",
     "output_type": "stream",
     "text": [
      "23 44\n"
     ]
    }
   ],
   "source": [
    "class Node:\n",
    "    def __init__(self,x) -> None:\n",
    "        self.x = x\n",
    "        self.next = None \n",
    "    \n",
    "class Yok:\n",
    "    def __init__(self):\n",
    "        self.root = None \n",
    "\n",
    "    def do(self,b):\n",
    "        a = b \n",
    "        a.x = 23\n",
    "        a.y = 44\n",
    "\n",
    "\n"
   ]
  }
 ],
 "metadata": {
  "kernelspec": {
   "display_name": "Python 3",
   "language": "python",
   "name": "python3"
  },
  "language_info": {
   "codemirror_mode": {
    "name": "ipython",
    "version": 3
   },
   "file_extension": ".py",
   "mimetype": "text/x-python",
   "name": "python",
   "nbconvert_exporter": "python",
   "pygments_lexer": "ipython3",
   "version": "3.9.0"
  },
  "orig_nbformat": 4
 },
 "nbformat": 4,
 "nbformat_minor": 2
}
